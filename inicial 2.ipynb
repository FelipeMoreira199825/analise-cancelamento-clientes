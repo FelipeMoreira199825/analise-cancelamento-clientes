{
 "cells": [
  {
   "cell_type": "markdown",
   "metadata": {},
   "source": [
    "# Python Insights - Analisando Dados com Python\n",
    "\n",
    "### Case - Cancelamento de Clientes\n",
    "\n",
    "Você foi contratado por uma empresa com mais de 800 mil clientes para um projeto de Dados. Recentemente a empresa percebeu que da sua base total de clientes, a maioria são clientes inativos, ou seja, que já cancelaram o serviço.\n",
    "\n",
    "Precisando melhorar seus resultados ela quer conseguir entender os principais motivos desses cancelamentos e quais as ações mais eficientes para reduzir esse número.\n",
    "\n",
    "Base de dados e arquivos:  https://drive.google.com/drive/folders/1bhC7Bf5FEEWzEWaB2xMPORuVW1Zysebl?usp=drive_link\n"
   ]
  },
  {
   "cell_type": "code",
   "execution_count": null,
   "metadata": {},
   "outputs": [],
   "source": [
    "# Passo a passo para análise de cancelamento de clientes:\n",
    "#! pip install pandas openpyxl numpy nbformat plotly ipykernel\n",
    "# plotly histogram vericar documentação para mais detalhes\n",
    "\n",
    "\n",
    "\n",
    "# 1. Carregar os dados da base fornecida.\n",
    "import pandas as pd\n",
    "\n",
    "tabela = pd.read_csv(\"cancelamentos_sample.csv\")\n",
    "\n",
    "# 2. Visualizar a base de dados (2 objetivos: entender as informações e identificar problemas).\n",
    "#informações inúteis - informações que não te ajudam, te atrapalham\n",
    "tabela = tabela.drop(columns=\"CustomerID\") #remover coluna inútil\n",
    "display(tabela.head())\n"
   ]
  },
  {
   "cell_type": "code",
   "execution_count": null,
   "metadata": {},
   "outputs": [],
   "source": [
    "\n",
    "# 3. Limpar e tratar os dados (valores nulos, tipos, etc).\n",
    "# informações no fotmato errado\n",
    "# informações nulas\n",
    "display(tabela.info())\n",
    "tabela = tabela.dropna() #remover linhas com informações nulas\n",
    "display(tabela.info())\n",
    "\n"
   ]
  },
  {
   "cell_type": "code",
   "execution_count": null,
   "metadata": {},
   "outputs": [],
   "source": [
    "# 4. Análise inicial (quantos clientes cancelaram, qual o % de clientes )\n",
    "#contar na coluna cancelou os valores \n",
    "display(tabela[\"cancelou\"].value_counts() )\n",
    "#Em percentual\n",
    "display(tabela[\"cancelou\"].value_counts(normalize=True)) #.map(\"{:.2%}\".format))"
   ]
  },
  {
   "cell_type": "code",
   "execution_count": null,
   "metadata": {},
   "outputs": [],
   "source": [
    "# 5.Identificar padrões e perfis de clientes que cancelam.\n",
    "#Criando graficos\n",
    "#%pip install nbformat\n",
    "import plotly.express as px\n",
    "\n",
    "#Criando gráficos para todas as colunas\n",
    "for caluna in tabela.columns:\n",
    "#criar grafico \n",
    "    grafico = px.histogram(tabela, x=caluna, color=\"cancelou\", text_auto=True)\n",
    "    grafico.show()\n",
    "# 6. Sugerir ações para reduzir o número de cancelamentos."
   ]
  },
  {
   "cell_type": "code",
   "execution_count": null,
   "metadata": {},
   "outputs": [],
   "source": [
    "\n",
    "#1-Clientes que ligam mais de 4 vezes para o suporte, tem mais chances de cancelar\n",
    "# Sugestão: melhorar o atendimento do suporte e priorizar clientes que ligam mais de 3 vezes\n",
    "#Callcenter - Olhar a minha base de dados e tirar os clientes que ligaram mais de 4 vezes \n",
    "tabela = tabela[tabela[\"ligacoes_callcenter\"]<=4]\n",
    "\n",
    "\n",
    "#2-Todos os clientes que mais de 20 dias de atraso cancelaram\n",
    "# Sugestão: rever a política de cobrança, oferecer descontos para quem está com mais de 10 dias de atraso.\n",
    "#dias_atraso - Olhar a minha base de dados e tirar os clientes que estão com mais de 20 dias de atraso\n",
    "tabela = tabela[tabela[\"dias_atraso\"]<=20]\n",
    "\n",
    "\n",
    "#2-Todos os clientes do contrato mensal cancelaram\n",
    "# Sugestão: rever o contrato mensal, melhorar o custo benefício, oferecer vantagens para quem  utliza.\n",
    "#duracao_contrato - Olhar a minha base de dados e tirar os clientes que estão no contrato mensal\n",
    "tabela = tabela[tabela[\"duracao_contrato\"]!=\"Monthly\"]\n",
    "\n",
    "\n",
    "display(tabela[\"cancelou\"].value_counts(normalize=True))\n",
    "\n",
    "\n",
    "# Se eu resolver esses 3 problemas, como fica minha taxa de cancelamento?\n",
    "\n"
   ]
  }
 ],
 "metadata": {
  "kernelspec": {
   "display_name": "Python 3",
   "language": "python",
   "name": "python3"
  },
  "language_info": {
   "codemirror_mode": {
    "name": "ipython",
    "version": 3
   },
   "file_extension": ".py",
   "mimetype": "text/x-python",
   "name": "python",
   "nbconvert_exporter": "python",
   "pygments_lexer": "ipython3",
   "version": "3.12.3"
  },
  "orig_nbformat": 4
 },
 "nbformat": 4,
 "nbformat_minor": 2
}
